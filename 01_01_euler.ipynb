{
 "cells": [
  {
   "cell_type": "markdown",
   "metadata": {},
   "source": [
    "---\n",
    "author:\n",
    "- 'Adrian E. Feiguin'\n",
    "title: 'Computational Physics'\n",
    "...\n",
    "\n",
    "Ordinary differential equations: a review\n",
    "=========================================\n",
    "\n",
    "Let’s consider a simple 1st order equation: \n",
    "$$\\frac{dx}{dy}=f(x,y)$$\n",
    "\n",
    "To solve this equation with a computer we need to **discretize** the differences: we\n",
    "have to convert the differential equation to a “**finite differences**” equation. The simplest\n",
    "solution is Euler’s method.\n",
    "\n",
    "Euler’s method\n",
    "--------------\n",
    "\n",
    "Supouse that at a point $x_0$, the function $f$ has a value $y_0$. We\n",
    "want to find the approximate value of $y$ in a point $x_1$ close to\n",
    "$x_0$, $x_1=x_0+\\Delta x$, with $\\Delta x$ small. We assume that $f$,\n",
    "the rate of change of $y$, is constant in this interval $\\Delta x$.\n",
    "Therefore we find: $$\\begin{eqnarray}\n",
    "&& dx \\approx \\Delta x &=&x_1-x_0, \\\\\n",
    "&& dy \\approx \\Delta y &=&y_1-y_0,\\end{eqnarray}$$ with\n",
    "$y_1=y(x_1)=y(x_0+\\Delta x)$. Then we re-write the differential equation in terms of discrete differences as:\n",
    "$$\\frac{\\Delta y}{\\Delta x}=f(x,y)$$ or \n",
    "$$\\Delta y = f(x,y)\\Delta x$$\n",
    "and approximate the value of $y_1$ as\n",
    "$$y_1=y_0+f(x_0,y_0)(x_1-x_0)$$ We can generalize this formula to find\n",
    "the value of $y$ at $x_2=x_1+\\Delta x$ as\n",
    "$$y_{2}=y_1+f(x_1,y_1)\\Delta x,$$ or in the general case:\n",
    "$$y_{n+1}=y_n+f(x_n,y_n)\\Delta x$$\n",
    "\n",
    "This is a good approximation as long as $\\Delta x$ is “small”. What is\n",
    "small? Depends on the problem, but it is basically defined by the “rate\n",
    "of change”, or “smoothness” of $f$. $f(x)$ has to behave smoothly and\n",
    "without rapid variations in the interval $\\Delta x$.\n",
    "\n",
    "Notice that Euler’s method is equivalent to a 1st order Taylor expansion\n",
    "about the point $x_0$. The “local error” calculating $x_1$ is then\n",
    "$O(\\Delta x^2)$. If we use the method $N$ times to calculate $N$\n",
    "consecutive points, the propagated “global” error will be\n",
    "$NO(\\Delta x^2)\\approx O(\\Delta \n",
    "x)$. This error decreases linearly with decreasing step, so we need to\n",
    "halve the step size to reduce the error in half. The numerical work for\n",
    "each step consists of a single evaluation of $f$."
   ]
  },
  {
   "cell_type": "markdown",
   "metadata": {},
   "source": [
    "#### Example\n",
    "\n",
    "Let's look at the accuracy of this approximation as in terms of the interval $\\Delta x$. In our first example we will evaluate the derivative of $y=x^2$ at $x=1$."
   ]
  },
  {
   "cell_type": "code",
   "execution_count": 14,
   "metadata": {
    "collapsed": false
   },
   "outputs": [
    {
     "name": "stdout",
     "output_type": "stream",
     "text": [
      "1.0 3.0\n",
      "0.1 2.1\n",
      "0.01 2.01\n",
      "0.001 2.001\n",
      "0.0001 2.0001\n",
      "1e-05 2.00001000001\n",
      "1e-06 2.00000099992\n",
      "1e-07 2.00000010109\n",
      "1e-08 1.99999998785\n",
      "1e-09 2.00000016548\n",
      "1e-10 2.00000016548\n"
     ]
    }
   ],
   "source": [
    "delta = 1.\n",
    "while(delta > 1.e-10):\n",
    "    x = 1.\n",
    "    d = (x+delta)*(x+delta)-x*x\n",
    "    d = d / delta\n",
    "    print delta, d\n",
    "    delta = delta / 10.\n",
    "    "
   ]
  },
  {
   "cell_type": "markdown",
   "metadata": {},
   "source": [
    "For a more complex function we need to import it from **math**. For instance, let's calculate the derivative of $sin(x)$ at $x=\\pi/4$."
   ]
  },
  {
   "cell_type": "code",
   "execution_count": 17,
   "metadata": {
    "collapsed": false
   },
   "outputs": [
    {
     "name": "stdout",
     "output_type": "stream",
     "text": [
      "1.0 0.269954482713 0.678010098842\n",
      "0.1 0.670602972904 0.706812190187\n",
      "0.01 0.703559491689 0.707103834912\n",
      "0.001 0.706753109974 0.707106751724\n",
      "0.0001 0.707071424668 0.707106780892\n",
      "1e-05 0.707103245645 0.707106781195\n",
      "1e-06 0.707106427633 0.707106781128\n",
      "1e-07 0.707106745379 0.707106780906\n",
      "1e-08 0.707106773135 0.707106773135\n",
      "1e-09 0.707106817543 0.707106817543\n",
      "1e-10 0.707106595499 0.707105485276\n"
     ]
    }
   ],
   "source": [
    "from math import sin\n",
    "delta = 1.\n",
    "while(delta > 1.e-10):\n",
    "    x = 3.14159265358979323846264338327950288419716939937510/4.;\n",
    "    d1 = sin(x+delta) - sin(x); #forward\n",
    "    d2 = sin(x+delta*0.5) - sin(x-delta*0.5); # midpoint\n",
    "    d1 = d1 / delta;\n",
    "    d2 = d2 / delta;\n",
    "    print delta, d1, d2\n",
    "    delta = delta / 10."
   ]
  },
  {
   "cell_type": "markdown",
   "metadata": {},
   "source": [
    "### Exercise 1.1: Newton’s law of cooling \n",
    "\n",
    "If the temperature difference between an object and its surroundings is\n",
    "small, the rate of change of the temperature of the object is\n",
    "proportional to the temperature difference: $$\\frac{dT}{dt}=-r(T-T_s),$$\n",
    "where $T$ is the temperature of the body, $T_s$ is the temperature of\n",
    "the environment, and $r$ is a “cooling constant” that depends on the\n",
    "heat transfer mechanism, the contact area with the environment and the\n",
    "thermal properties of the body. The minus sign appears because if\n",
    "$T>T_s$, the temperature must decrease.\n",
    "\n",
    "Write a program to calculate the temperature of a body at a time $t$,\n",
    "given the cooling constant $r$ and the temperature of the body at time\n",
    "$t=0$. Plot the results for $r=0.1\\frac{1}{min}$; $T_0=83^{\\circ} C$\n",
    "using different intervals $\\Delta t$ and compare with exact (analytical)\n",
    "results."
   ]
  },
  {
   "cell_type": "code",
   "execution_count": 1,
   "metadata": {
    "collapsed": true
   },
   "outputs": [],
   "source": [
    "t0 = 10.   # initial temperature\n",
    "ts = 83.   # temp. of the environment\n",
    "r = 0.1    # cooling rate\n",
    "dt = 0.05  # time step\n",
    "tmax = 10. # maximum time\n",
    "nsteps = int((tmax)/dt)  # number of steps"
   ]
  },
  {
   "cell_type": "code",
   "execution_count": 2,
   "metadata": {
    "collapsed": false
   },
   "outputs": [
    {
     "name": "stdout",
     "output_type": "stream",
     "text": [
      "1 0.05 10.365\n",
      "2 0.1 10.728175\n",
      "3 0.15 11.089534125\n",
      "4 0.2 11.4490864544\n",
      "5 0.25 11.8068410221\n",
      "6 0.3 12.162806817\n",
      "7 0.35 12.5169927829\n",
      "8 0.4 12.869407819\n",
      "9 0.45 13.2200607799\n",
      "10 0.5 13.568960476\n",
      "11 0.55 13.9161156736\n",
      "12 0.6 14.2615350953\n",
      "13 0.65 14.6052274198\n",
      "14 0.7 14.9472012827\n",
      "15 0.75 15.2874652763\n",
      "16 0.8 15.6260279499\n",
      "17 0.85 15.9628978101\n",
      "18 0.9 16.2980833211\n",
      "19 0.95 16.6315929045\n",
      "20 1.0 16.96343494\n",
      "21 1.05 17.2936177653\n",
      "22 1.1 17.6221496764\n",
      "23 1.15 17.949038928\n",
      "24 1.2 18.2742937334\n",
      "25 1.25 18.5979222647\n",
      "26 1.3 18.9199326534\n",
      "27 1.35 19.2403329901\n",
      "28 1.4 19.5591313252\n",
      "29 1.45 19.8763356686\n",
      "30 1.5 20.1919539902\n",
      "31 1.55 20.5059942203\n",
      "32 1.6 20.8184642492\n",
      "33 1.65 21.1293719279\n",
      "34 1.7 21.4387250683\n",
      "35 1.75 21.7465314429\n",
      "36 1.8 22.0527987857\n",
      "37 1.85 22.3575347918\n",
      "38 1.9 22.6607471178\n",
      "39 1.95 22.9624433823\n",
      "40 2.0 23.2626311653\n",
      "41 2.05 23.5613180095\n",
      "42 2.1 23.8585114195\n",
      "43 2.15 24.1542188624\n",
      "44 2.2 24.4484477681\n",
      "45 2.25 24.7412055292\n",
      "46 2.3 25.0324995016\n",
      "47 2.35 25.3223370041\n",
      "48 2.4 25.610725319\n",
      "49 2.45 25.8976716925\n",
      "50 2.5 26.183183334\n",
      "51 2.55 26.4672674173\n",
      "52 2.6 26.7499310802\n",
      "53 2.65 27.0311814248\n",
      "54 2.7 27.3110255177\n",
      "55 2.75 27.5894703901\n",
      "56 2.8 27.8665230382\n",
      "57 2.85 28.142190423\n",
      "58 2.9 28.4164794709\n",
      "59 2.95 28.6893970735\n",
      "60 3.0 28.9609500881\n",
      "61 3.05 29.2311453377\n",
      "62 3.1 29.499989611\n",
      "63 3.15 29.767489663\n",
      "64 3.2 30.0336522146\n",
      "65 3.25 30.2984839536\n",
      "66 3.3 30.5619915338\n",
      "67 3.35 30.8241815761\n",
      "68 3.4 31.0850606683\n",
      "69 3.45 31.3446353649\n",
      "70 3.5 31.6029121881\n",
      "71 3.55 31.8598976271\n",
      "72 3.6 32.115598139\n",
      "73 3.65 32.3700201483\n",
      "74 3.7 32.6231700476\n",
      "75 3.75 32.8750541973\n",
      "76 3.8 33.1256789263\n",
      "77 3.85 33.3750505317\n",
      "78 3.9 33.6231752791\n",
      "79 3.95 33.8700594027\n",
      "80 4.0 34.1157091056\n",
      "81 4.05 34.3601305601\n",
      "82 4.1 34.6033299073\n",
      "83 4.15 34.8453132578\n",
      "84 4.2 35.0860866915\n",
      "85 4.25 35.325656258\n",
      "86 4.3 35.5640279767\n",
      "87 4.35 35.8012078369\n",
      "88 4.4 36.0372017977\n",
      "89 4.45 36.2720157887\n",
      "90 4.5 36.5056557097\n",
      "91 4.55 36.7381274312\n",
      "92 4.6 36.969436794\n",
      "93 4.65 37.1995896101\n",
      "94 4.7 37.428591662\n",
      "95 4.75 37.6564487037\n",
      "96 4.8 37.8831664602\n",
      "97 4.85 38.1087506279\n",
      "98 4.9 38.3332068748\n",
      "99 4.95 38.5565408404\n",
      "100 5.0 38.7787581362\n",
      "101 5.05 38.9998643455\n",
      "102 5.1 39.2198650238\n",
      "103 5.15 39.4387656986\n",
      "104 5.2 39.6565718702\n",
      "105 5.25 39.8732890108\n",
      "106 5.3 40.0889225658\n",
      "107 5.35 40.3034779529\n",
      "108 5.4 40.5169605632\n",
      "109 5.45 40.7293757603\n",
      "110 5.5 40.9407288815\n",
      "111 5.55 41.1510252371\n",
      "112 5.6 41.3602701109\n",
      "113 5.65 41.5684687604\n",
      "114 5.7 41.7756264166\n",
      "115 5.75 41.9817482845\n",
      "116 5.8 42.1868395431\n",
      "117 5.85 42.3909053454\n",
      "118 5.9 42.5939508186\n",
      "119 5.95 42.7959810645\n",
      "120 6.0 42.9970011592\n",
      "121 6.05 43.1970161534\n",
      "122 6.1 43.3960310727\n",
      "123 6.15 43.5940509173\n",
      "124 6.2 43.7910806627\n",
      "125 6.25 43.9871252594\n",
      "126 6.3 44.1821896331\n",
      "127 6.35 44.3762786849\n",
      "128 6.4 44.5693972915\n",
      "129 6.45 44.7615503051\n",
      "130 6.5 44.9527425535\n",
      "131 6.55 45.1429788408\n",
      "132 6.6 45.3322639466\n",
      "133 6.65 45.5206026268\n",
      "134 6.7 45.7079996137\n",
      "135 6.75 45.8944596156\n",
      "136 6.8 46.0799873175\n",
      "137 6.85 46.264587381\n",
      "138 6.9 46.4482644441\n",
      "139 6.95 46.6310231218\n",
      "140 7.0 46.8128680062\n",
      "141 7.05 46.9938036662\n",
      "142 7.1 47.1738346479\n",
      "143 7.15 47.3529654746\n",
      "144 7.2 47.5312006472\n",
      "145 7.25 47.708544644\n",
      "146 7.3 47.8850019208\n",
      "147 7.35 48.0605769112\n",
      "148 7.4 48.2352740266\n",
      "149 7.45 48.4090976565\n",
      "150 7.5 48.5820521682\n",
      "151 7.55 48.7541419074\n",
      "152 7.6 48.9253711978\n",
      "153 7.65 49.0957443418\n",
      "154 7.7 49.2652656201\n",
      "155 7.75 49.433939292\n",
      "156 7.8 49.6017695956\n",
      "157 7.85 49.7687607476\n",
      "158 7.9 49.9349169439\n",
      "159 7.95 50.1002423591\n",
      "160 8.0 50.2647411473\n",
      "161 8.05 50.4284174416\n",
      "162 8.1 50.5912753544\n",
      "163 8.15 50.7533189776\n",
      "164 8.2 50.9145523827\n",
      "165 8.25 51.0749796208\n",
      "166 8.3 51.2346047227\n",
      "167 8.35 51.3934316991\n",
      "168 8.4 51.5514645406\n",
      "169 8.45 51.7087072179\n",
      "170 8.5 51.8651636818\n",
      "171 8.55 52.0208378634\n",
      "172 8.6 52.1757336741\n",
      "173 8.65 52.3298550057\n",
      "174 8.7 52.4832057307\n",
      "175 8.75 52.635789702\n",
      "176 8.8 52.7876107535\n",
      "177 8.85 52.9386726998\n",
      "178 8.9 53.0889793363\n",
      "179 8.95 53.2385344396\n",
      "180 9.0 53.3873417674\n",
      "181 9.05 53.5354050586\n",
      "182 9.1 53.6827280333\n",
      "183 9.15 53.8293143931\n",
      "184 9.2 53.9751678211\n",
      "185 9.25 54.120291982\n",
      "186 9.3 54.2646905221\n",
      "187 9.35 54.4083670695\n",
      "188 9.4 54.5513252342\n",
      "189 9.45 54.693568608\n",
      "190 9.5 54.8351007649\n",
      "191 9.55 54.9759252611\n",
      "192 9.6 55.1160456348\n",
      "193 9.65 55.2554654066\n",
      "194 9.7 55.3941880796\n",
      "195 9.75 55.5322171392\n",
      "196 9.8 55.6695560535\n",
      "197 9.85 55.8062082732\n",
      "198 9.9 55.9421772319\n",
      "199 9.95 56.0774663457\n",
      "200 10.0 56.212079014\n"
     ]
    }
   ],
   "source": [
    "t = t0\n",
    "for i in range(1,nsteps+1):\n",
    "    new_t = t - r*(t-ts)*dt\n",
    "    t = new_t\n",
    "    print i,i*dt, t\n",
    "    # we can also do t = t - r*(t-ts)*dt\n",
    "    "
   ]
  },
  {
   "cell_type": "markdown",
   "metadata": {},
   "source": [
    "Let's try plotting the results. We first need to import the required libraries and methods"
   ]
  },
  {
   "cell_type": "code",
   "execution_count": 3,
   "metadata": {
    "collapsed": true
   },
   "outputs": [],
   "source": [
    "%matplotlib inline\n",
    "import numpy as np\n",
    "from matplotlib import pyplot "
   ]
  },
  {
   "cell_type": "markdown",
   "metadata": {},
   "source": [
    "Next, we create numpy arrays to store the (x,y) values "
   ]
  },
  {
   "cell_type": "code",
   "execution_count": 4,
   "metadata": {
    "collapsed": true
   },
   "outputs": [],
   "source": [
    "my_time = np.zeros(nsteps)\n",
    "my_temp = np.zeros(nsteps)"
   ]
  },
  {
   "cell_type": "markdown",
   "metadata": {},
   "source": [
    "We have to re write the loop to store the values in the arrays. Remember that numpy arrays start from 0."
   ]
  },
  {
   "cell_type": "code",
   "execution_count": 5,
   "metadata": {
    "collapsed": true
   },
   "outputs": [],
   "source": [
    "t = t0\n",
    "for i in range(0,nsteps):\n",
    "    t = t - r*(t-ts)*dt\n",
    "    my_time[i] = (i+1)*dt\n",
    "    my_temp[i] = t\n",
    "    "
   ]
  },
  {
   "cell_type": "code",
   "execution_count": 6,
   "metadata": {
    "collapsed": false
   },
   "outputs": [
    {
     "data": {
      "image/png": "[encoded data removed]",
      "text/plain": [
       "<matplotlib.figure.Figure at 0x1047428d0>"
      ]
     },
     "metadata": {},
     "output_type": "display_data"
    }
   ],
   "source": [
    "pyplot.plot(my_time, my_temp, color='#003366', ls='-', lw=3)\n",
    "pyplot.xlabel('time')\n",
    "pyplot.ylabel('temperature');"
   ]
  },
  {
   "cell_type": "markdown",
   "metadata": {},
   "source": [
    "We could have saved effort by defining"
   ]
  },
  {
   "cell_type": "code",
   "execution_count": 7,
   "metadata": {
    "collapsed": true
   },
   "outputs": [],
   "source": [
    "my_time = np.linspace(dt,tmax,nsteps)"
   ]
  },
  {
   "cell_type": "code",
   "execution_count": 8,
   "metadata": {
    "collapsed": false
   },
   "outputs": [
    {
     "data": {
      "image/png": "[encoded data removed]",
      "text/plain": [
       "<matplotlib.figure.Figure at 0x104742710>"
      ]
     },
     "metadata": {},
     "output_type": "display_data"
    }
   ],
   "source": [
    "pyplot.plot(my_time, my_temp, color='#003366', ls='-', lw=3)\n",
    "pyplot.xlabel('time')\n",
    "pyplot.ylabel('temperature');"
   ]
  },
  {
   "cell_type": "markdown",
   "metadata": {},
   "source": [
    "Alternatively, and in order to re use code in future problems, we could have created a function."
   ]
  },
  {
   "cell_type": "code",
   "execution_count": 20,
   "metadata": {
    "collapsed": true
   },
   "outputs": [],
   "source": [
    "def euler(y, f, dx):\n",
    "    \"\"\"Computes y_new = y + f*dx\n",
    "    \n",
    "    Parameters\n",
    "    ----------\n",
    "    y  : float\n",
    "        old value of y_n at x_n\n",
    "    f  : float\n",
    "        first derivative f(x,y) evaluated at (x_n,y_n)\n",
    "    dx : float\n",
    "        x step\n",
    "    \"\"\"\n",
    "    \n",
    "    return y + f*dx"
   ]
  },
  {
   "cell_type": "code",
   "execution_count": 10,
   "metadata": {
    "collapsed": true
   },
   "outputs": [],
   "source": [
    "t = t0\n",
    "for i in range(0,nsteps):\n",
    "    t = euler(t, -r*(t-ts), dt)\n",
    "    my_temp[i] = t"
   ]
  },
  {
   "cell_type": "code",
   "execution_count": null,
   "metadata": {
    "collapsed": true
   },
   "outputs": [],
   "source": [
    "(Ac)"
   ]
  },
  {
   "cell_type": "code",
   "execution_count": 18,
   "metadata": {
    "collapsed": false
   },
   "outputs": [
    {
     "data": {
      "image/png": "[encoded data removed]",
      "text/plain": [
       "<matplotlib.figure.Figure at 0x106300210>"
      ]
     },
     "metadata": {},
     "output_type": "display_data"
    }
   ],
   "source": [
    "pyplot.plot(my_time, my_temp, color='#003366', ls='-', lw=3)\n",
    "pyplot.xlabel('time');\n",
    "pyplot.ylabel('temperature');"
   ]
  }
 ],
 "metadata": {
  "kernelspec": {
   "display_name": "Python 2",
   "language": "python",
   "name": "python2"
  },
  "language_info": {
   "codemirror_mode": {
    "name": "ipython",
    "version": 2
   },
   "file_extension": ".py",
   "mimetype": "text/x-python",
   "name": "python",
   "nbconvert_exporter": "python",
   "pygments_lexer": "ipython2",
   "version": "2.7.10"
  }
 },
 "nbformat": 4,
 "nbformat_minor": 0
}
