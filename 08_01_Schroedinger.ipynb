{
 "cells": [
  {
   "cell_type": "markdown",
   "metadata": {},
   "source": [
    "Time dependent Scrödinger equation\n",
    "==================================\n",
    "\n",
    "We want to describe an electron wavefunction by a wavepacket\n",
    "$\\psi (x,y)$ that is a function of position $x$ and time $t$. We assume\n",
    "that the electron is initially localized around $x_0$, and model this by\n",
    "a Gaussian multiplying a plane wave:\n",
    "$$\\psi(x,t=0)=\\exp{\\left[-\\frac{1}{2}\\left(\\frac{x-x_0}{\\sigma _0}\n",
    "\\right)^2\\right ]} e^{ik_0x}\n",
    "$$\n",
    "\n",
    "This wave function does not correspond to an electron with a well\n",
    "defined momentum. However, if the width of the Gaussian $\\sigma _0$ is\n",
    "made very large, the electron gets spread over a sufficiently large\n",
    "region of space and can be considered as a plane wave with momentum\n",
    "$k_0$ with a slowly varying amplitude.\n",
    "\n",
    "The behavior of this wave packet as a function of time is described by\n",
    "the time-dependent Schröedinger equation (here in 1d):\n",
    "\n",
    "$$i\\frac{\\partial \\psi}{\\partial t}=H\\psi(x,t).$$ \n",
    "\n",
    "$H$ is the Hamiltonian operator:\n",
    "\n",
    "$$H=-\\frac{1}{2m}\\frac{\\partial ^2}{\\partial x^2}+V(x),$$ \n",
    "\n",
    "where $V(x)$ is a time independent potential. The\n",
    "Hamiltonian is chosen to be real. we have picked teh energy units such\n",
    "that $\\hbar=1$, and from now on, we will pick mass units such that\n",
    "$2m=1$ to make equations simpler.\n",
    "\n",
    "Scrhödinger’s equation is obviously a PDE, and we can use\n",
    "generalizations of the techniques learned in previous sections to solve\n",
    "it. The main observation is that this time we have to deal with complex\n",
    "numbers, and the function $\\psi (x,y)$ has real and imaginary parts:\n",
    "$$\\psi (x,t) = R(x,t)+iI(x,t).$$ However, is this section we will\n",
    "present an alternative method that makes the quantum mechanical nature\n",
    "of this problem more transparent.\n",
    "\n",
    "The time-evolution operator\n",
    "---------------------------\n",
    "\n",
    "The Scrödinger equation (\\[time\\]) can be integrated in a formal sense\n",
    "to obtain: \n",
    "$$\\psi(x,t)=U(t)\\psi(x,t=0)=e^{-iHt}\\psi(x,t).$$ \n",
    "\n",
    "From here we deduce that the wave function can be\n",
    "evolved forward in time by applying the time-evolution operator\n",
    "$U(t)=\\exp{-iHt}$: $$\\psi(t+\\Delta t)= e^{-iH\\delta t}\\psi(t).$$\n",
    "Likewise, the inverse of the time-evolution operator moves the wave\n",
    "function back in time: $$\\psi(t-\\Delta t)=e^{iH\\Delta t}\\psi(t),$$ where\n",
    "we have use the property $$U^{-1}(t)=U(-t).$$ Although it would be nice\n",
    "to have an algorithm based on the direct application of $U$, it has been\n",
    "shown that this is not stable. Hence, we apply the following relation:\n",
    "$$\\psi(t+\\Delta t)=\\psi(t-\\Delta t)+\\left[e^{-iH\\Delta t}-e^{iH\\Delta\n",
    "t}\\right]\\psi(t).$$ Now, the derivatives with recpect to $x$ can be\n",
    "approximated by \n",
    "\n",
    "$$\\begin{aligned}\n",
    "\\frac{\\partial \\psi}{\\partial t}\n",
    "&\\sim& \\frac{\\psi(x,t+\\Delta t)-\\psi(x, \\Delta t)}{\\Delta t}, \\\\\n",
    "\\frac{\\partial ^2 \\psi}{\\partial x^2} &\\sim& \\frac{\\psi(x+\\Delta  %\n",
    "x,t)+\\psi(x-\\Delta x,t)-2\\psi(x,t)}{(\\Delta x)^2}.\n",
    "\\end{aligned}$$ \n",
    "\n",
    "The time evolution operator is\n",
    "approximated by: $$U(\\Delta t)=e^{-iH\\Delta t} \\sim 1+iH\\Delta t.$$\n",
    "Replacing the expression (\\[hami\\]) for $H$, we obtain:\n",
    "\n",
    "$$\\psi(x,t+\\Delta t)=\\psi(x,t-\\Delta t)-2i[(2\\alpha+\\Delta t\n",
    "V(x))\\psi(x,t)-\\alpha(\\psi(x+\\Delta x,t)+\\psi(x-\\Delta x,t))],\n",
    "$$ \n",
    "\n",
    "with $\\alpha=\\frac{\\Delta t}{(\\Delta x)^2}$. The\n",
    "probability of finding an electron at $(x,t)$ is given by\n",
    "$|\\psi(x,t)|^2$. This equations do no conserve this probability exactly,\n",
    "but the error is of the order of $(\\Delta t)^2$. The convergence can be\n",
    "determined by using smaller steps.\n",
    "\n",
    "### Exercise 8.1: Single-slit diffraction \n",
    "Young’s single-slit experiment consists of a wave passing though a small\n",
    "slit, which causes the emerging wavelets to intefere with eachother\n",
    "forming a diffraction pattern. In quantum mechanics, where particles are\n",
    "represented by probabilities, and probabilities by wave packets, it\n",
    "means that the same phenomenon should occur when a particle (electron,\n",
    "neutron) passes though a small slit. Consider a wave packet of initial\n",
    "width 3 incident on a slit of width 5, and plot the probability density\n",
    "$|\\psi ^2|$ as the packet crosses the slit. Generalize the\n",
    "time-evolution equation (\\[time\\_diff\\]) for 2 dimensions. Model the\n",
    "slit with a potential wall:\n",
    "$$V(x,y)=100 \\,\\,\\,\\,\\,\\ \\mathrm{for}\\,\\,x=10,|y|\\geq 2.5.$$"
   ]
  },
  {
   "cell_type": "code",
   "execution_count": 9,
   "metadata": {
    "collapsed": false
   },
   "outputs": [
    {
     "name": "stdout",
     "output_type": "stream",
     "text": [
      "2.0\n"
     ]
    },
    {
     "data": {
      "text/plain": [
       "<matplotlib.contour.QuadContourSet instance at 0x108790ef0>"
      ]
     },
     "execution_count": 9,
     "metadata": {},
     "output_type": "execute_result"
    },
    {
     "data": {
      "image/png": "[encoded data removed]",
      "text/plain": [
       "<matplotlib.figure.Figure at 0x10626bcd0>"
      ]
     },
     "metadata": {},
     "output_type": "display_data"
    }
   ],
   "source": [
    "%matplotlib inline\n",
    "import numpy as np\n",
    "from matplotlib import pyplot\n",
    "import math\n",
    "\n",
    "lx=100\n",
    "ly=40\n",
    "dx = 0.1\n",
    "dy = 0.1\n",
    "nx = int(lx/dx)\n",
    "ny = int(ly/dy)\n",
    "dt = 0.02\n",
    "\n",
    "alpha = dt/dx**2\n",
    "print alpha\n",
    "\n",
    "psi0_r = np.zeros(shape=(ny+1,nx+1))\n",
    "psi0_i = np.zeros(shape=(ny+1,nx+1))\n",
    "psi1_r = np.zeros(shape=(ny+1,nx+1))\n",
    "psi1_i = np.zeros(shape=(ny+1,nx+1))\n",
    "psi2_r = np.zeros(shape=(ny+1,nx+1))\n",
    "psi2_i = np.zeros(shape=(ny+1,nx+1))\n",
    "\n",
    "#Initial conditions: wave packet\n",
    "sigma2 = 3.**2\n",
    "k0 = np.pi/4\n",
    "x0 = 6.\n",
    "y0 = ly/2.\n",
    "for x in range(0,nx):\n",
    "    for y in range(0,ny):\n",
    "        psi0_r[y,x] = math.exp(-0.5*((x*dx-x0)**2+(y*dy-y0)**2)/sigma2)*math.cos(k0*x*dx)\n",
    "        psi0_i[y,x] = math.exp(-0.5*((x*dx-x0)**2+(y*dy-y0)**2)/sigma2)*math.sin(k0*x*dx)\n",
    "\n",
    "x = np.arange(0, lx+dx, dx)\n",
    "y = np.arange(0, ly+dy, dy)\n",
    "X, Y = np.meshgrid(x, y)\n",
    "\n",
    "pyplot.contourf(X,Y,psi0_r**2+psi0_i**2)\n"
   ]
  },
  {
   "cell_type": "code",
   "execution_count": null,
   "metadata": {
    "collapsed": true
   },
   "outputs": [],
   "source": []
  }
 ],
 "metadata": {
  "kernelspec": {
   "display_name": "Python 2",
   "language": "python",
   "name": "python2"
  },
  "language_info": {
   "codemirror_mode": {
    "name": "ipython",
    "version": 2
   },
   "file_extension": ".py",
   "mimetype": "text/x-python",
   "name": "python",
   "nbconvert_exporter": "python",
   "pygments_lexer": "ipython2",
   "version": "2.7.10"
  }
 },
 "nbformat": 4,
 "nbformat_minor": 0
}
