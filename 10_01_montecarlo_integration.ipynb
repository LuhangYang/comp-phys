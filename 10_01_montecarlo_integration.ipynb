{
 "cells": [
  {
   "cell_type": "markdown",
   "metadata": {},
   "source": [
    "Monte Carlo integration\n",
    "=======================\n",
    "\n",
    "Imagine that we want to measure the area of a pond with arbitrary shape.\n",
    "Suppose that this pond is in the middle of a field with known area $A$.\n",
    "If we throw $N$ stones randomly, such that they land within the\n",
    "boundaries of the field, and we count the number of stones that fall in\n",
    "the pond $N_{in}$, the area of the pond will be approximately\n",
    "proportional to the fraction of stones that make a splash, multiplied by\n",
    "$A$: $$A_{pond}=\\frac{N_{in}}{N}A.$$ This simple procedure is an example\n",
    "of the “Monte Carlo” method.\n",
    "\n",
    "Simple Monte Carlo integration\n",
    "------------------------------\n",
    "\n",
    "More generaly, imagine a rectangle of height $H$ in the integration\n",
    "interval $[a,b]$, such that the function $f(x)$ is within its\n",
    "boundaries. Compute $n$ pairs of random numbers $(x_i,y_i)$ such that\n",
    "they are uniformly distributed inside this rectangle. The fraction of\n",
    "points that fall within the area contained below $f(x)$, <span>*i.\n",
    "e.*</span>, that satisfy $y_i \\leq f(x_i)$ is an estimate of the ratio o\n",
    "fthe integral of $f(x)$ and the area of the rectangle. Hence, the\n",
    "estimate of the integral will be given by:\n",
    "$$\\int _a^b{f(x)dx} \\simeq I(N) = \\frac{N_{in}}{N}H(b-a).\n",
    "$$\n",
    "\n",
    "Another Monte Carlo procedure is based on the definition:\n",
    "$$\\langle g \\rangle=\\frac{1}{(b-a)} \\int _a^b{f(x)dx}.\n",
    "$$ In order to determine this average, we sample the\n",
    "value of $f(x)$:\n",
    "$$\\langle f \\rangle \\simeq \\frac{1}{N}\\sum_{i=1}^{N}f(x_i),$$ where the\n",
    "$N$ values $x_i$ are distributed unformly in the interval $[a,b]$. The\n",
    "integral will be given by $$I(N)=(b-a) \\langle f \\rangle .$$\n",
    "Monte Carlo error analysis\n",
    "--------------------------\n",
    "\n",
    "The Monte Carlo method clearly yields approximate results. The accuracy\n",
    "deppends on the number of values $N$ that we use for the average. A\n",
    "possible measure of the error is the “variance” $\\sigma^2$ defined by:\n",
    "$$\\sigma ^2=\\langle f^2 \\rangle - \\langle f \\rangle ^2,\n",
    "$$ where\n",
    "$$\\langle f \\rangle = \\frac{1}{N} \\sum_{i=1}^N f(x_i)$$ and\n",
    "$$\\langle f^2 \\rangle = \\frac{1}{N} \\sum_{i=1}^{N} f(x_i)^2.$$ The\n",
    "“standard deviation” is $\\sigma$. However, we should expect that the\n",
    "error decreases with the number of points $N$, and the quantity $\\sigma$\n",
    "defines by (\\[mc\\_sigma\\]) does not. Hence, this cannot be a good\n",
    "measure of the error.\n",
    "\n",
    "Imagine that we perform several measurements of the integral, each of\n",
    "them yielding a result $I_n$. These values have been obtained with\n",
    "different sequences of $N$ random numbers. According to the central\n",
    "limit theorem, these values whould be normally dstributed around a mean\n",
    "$\\langle I\n",
    "\\rangle$. Suppouse that we have a set of $M$ of such measurements\n",
    "${I_n}$. A convenient measure of the differences of these measurements\n",
    "is the “standard deviation of the means” $\\sigma_M$:\n",
    "$$\\sigma_M ^2=\\langle I^2 \\rangle - \\langle I \\rangle ^2,\n",
    "$$ where\n",
    "$$\\langle I \\rangle = \\frac{1}{M} \\sum_{n=1}^M I_n$$ and\n",
    "$$\\langle I^2 \\rangle = \\frac{1}{M} \\sum_{n=1}^{M} I_n^2.$$ \n",
    "It can be proven that\n",
    "$$\\sigma_M \\approx \\sigma/\\sqrt{N}.\n",
    "$$ This relation becomes exact in the limit of a very\n",
    "large number of measurements. Note that this expression implies that the\n",
    "error decreases with the squere root of the number of trials, meaning\n",
    "that if we want to reduce the error by a factor 10, we need 100 times\n",
    "more points for the average.\n",
    "\n",
    "### Exercise 10.1: One dimensional integration \n",
    "\n",
    "1.  Write a program that implements the “hit and miss” Monte Carlo\n",
    "    integration algorithm. Find the estimate $I(N)$ for the integral of\n",
    "    $$f(x)=4\\sqrt{1-x^2}$$ as a function of $N$, in the interval\n",
    "    $(0,1)$. Choose $H=1$, and sample only the $x$-dependent part\n",
    "    $\\sqrt{1-x^2}$, and multiply the result by 4. Calculate the\n",
    "    difference between $I(N)$ and the exact result $\\pi$. This\n",
    "    difference is a measure of the error associated with the Monte\n",
    "    Carlo estimate. Make a log-log plot of the error as a function of\n",
    "    $N$. What is the approximate functional deppendece of the error on\n",
    "    $N$ for large $N$?\n",
    "\n",
    "2.  Estimate the integral of $f(x)$ using the simple Monte Carlo\n",
    "    integration by averaging over $N$ points, using (\\[mc\\_integral2\\]),\n",
    "    and compute the error as a function of $N$, for $N$ upt to 10,000.\n",
    "    Determine the approximate functional deppendence of the error on $N$\n",
    "    for large $N$. How many trials are necessary to determine $I_N$ to\n",
    "    two decimal places?\n",
    "\n",
    "3.  Perform 10 measurements $I_n(N)$, with $N=10,000$ using different\n",
    "    random sequences. Show in a table the values of $I_n$ and $\\sigma$\n",
    "    according to (\\[mc\\_integral2\\]) and (\\[mc\\_sigma\\]).\n",
    "    Use (\\[mc\\_sigmam\\]) to estimate the standard deviation of the\n",
    "    means, and compare to the values obtained from (\\[mc\\_sigma2\\])\n",
    "    using the 100,000 values.\n",
    "\n",
    "4.  To verify that your result for the error is independent of the\n",
    "    number of sets you used to divide your data, repeat the previous\n",
    "    item grouping your results in 20 groups of 5,000 points each.\n",
    "\n",
    "### Exercise 10.2: Importance of randomness \n",
    "\n",
    "To examine the effects of a poor random number generator, modify your\n",
    "program to use the linear congruential random number generator using the\n",
    "perameters $a=5$, $c=0$ and the seed $x_1=1$. Repeat the integral of the\n",
    "previous exercise and compare your results.\n",
    "\n",
    "#### Challenge 10.1: \n",
    "\n",
    "Exercise 10.2\n",
    "\n",
    "\n"
   ]
  },
  {
   "cell_type": "code",
   "execution_count": 2,
   "metadata": {
    "collapsed": false
   },
   "outputs": [
    {
     "data": {
      "text/plain": [
       "[<matplotlib.lines.Line2D at 0x1056a0bd0>]"
      ]
     },
     "execution_count": 2,
     "metadata": {},
     "output_type": "execute_result"
    },
    {
     "data": {
      "image/png": "[encoded data removed]",
      "text/plain": [
       "<matplotlib.figure.Figure at 0x103d1b690>"
      ]
     },
     "metadata": {},
     "output_type": "display_data"
    }
   ],
   "source": [
    "%matplotlib inline\n",
    "import numpy as np\n",
    "from matplotlib import pyplot\n",
    "\n",
    "x = np.arange(0,1,0.02)\n",
    "pyplot.plot(x, 4*np.sqrt(1-x**2))"
   ]
  },
  {
   "cell_type": "code",
   "execution_count": 12,
   "metadata": {
    "collapsed": false
   },
   "outputs": [
    {
     "name": "stdout",
     "output_type": "stream",
     "text": [
      "(100, 77, 3.0800000000000001, 0.061592653589793045)\n",
      "(200, 160, 3.2000000000000002, 0.058407346410207062)\n",
      "(400, 325, 3.25, 0.10840734641020688)\n",
      "(800, 632, 3.1600000000000001, 0.018407346410207026)\n",
      "(1600, 1263, 3.1575000000000002, 0.015907346410207079)\n",
      "(3200, 2498, 3.1225000000000001, 0.019092653589793063)\n",
      "(6400, 5025, 3.140625, 0.000967653589793116)\n",
      "(12800, 10051, 3.1409375000000002, 0.00065515358979295613)\n",
      "(25600, 19999, 3.1248437500000001, 0.016748903589792974)\n",
      "(51200, 40239, 3.1436718749999999, 0.0020792214102067774)\n",
      "(102400, 80786, 3.1557031250000001, 0.014110471410206937)\n",
      "(204800, 160801, 3.14064453125, 0.00094812233979313376)\n",
      "(409600, 321363, 3.1383105468750001, 0.0032821067147930094)\n",
      "(819200, 642931, 3.1393115234375002, 0.0022811301522929206)\n",
      "(1638400, 1286836, 3.1416894531250001, 9.6799535207026111e-05)\n",
      "(3276800, 2573423, 3.1413854980468749, 0.00020715554291816929)\n"
     ]
    },
    {
     "data": {
      "image/png": "[encoded data removed]",
      "text/plain": [
       "<matplotlib.figure.Figure at 0x1080a34d0>"
      ]
     },
     "metadata": {},
     "output_type": "display_data"
    }
   ],
   "source": [
    "\n",
    "# Hit and miss Monte Carlo integration\n",
    "ngroups = 16\n",
    "\n",
    "I = np.zeros(ngroups)\n",
    "N = np.zeros(ngroups)\n",
    "E = np.zeros(ngroups)\n",
    "\n",
    "n0 = 100\n",
    "for i in range(ngroups):\n",
    "\n",
    "    N[i] = n0\n",
    "    x = np.random.random(n0)\n",
    "    y = np.random.random(n0)\n",
    "    I[i] = 0.\n",
    "    Nin = 0\n",
    "    for j in range(n0):\n",
    "        if(y[j] < np.sqrt(1-x[j]**2)):\n",
    "            Nin += 1\n",
    "            \n",
    "    I[i] = 4.*float(Nin)/float(n0)\n",
    "    E[i] = abs(I[i]-np.pi)\n",
    "    print (n0,Nin,I[i],E[i])\n",
    "    n0 *= 2\n",
    "    \n",
    "            \n",
    "pyplot.plot(N,E,ls='-',c='red',lw=3);\n",
    "pyplot.plot(N,0.8/np.sqrt(N),ls='-',c='blue',lw=3);\n",
    "\n",
    "pyplot.xscale('log')\n",
    "pyplot.yscale('log')"
   ]
  },
  {
   "cell_type": "code",
   "execution_count": 4,
   "metadata": {
    "collapsed": false
   },
   "outputs": [
    {
     "name": "stdout",
     "output_type": "stream",
     "text": [
      "100 3.17011718576 0.0285245321656\n",
      "200 3.12867835052 0.0129143030745\n",
      "400 3.1634254696 0.0218328160149\n",
      "800 3.14861693166 0.00702427806806\n",
      "1600 3.16292504227 0.0213323886757\n",
      "3200 3.1387298773 0.00286277629378\n",
      "6400 3.12536356964 0.0162290839519\n",
      "12800 3.13916813336 0.00242452023093\n",
      "25600 3.13676355848 0.00482909510588\n",
      "51200 3.14303794505 0.00144529145852\n",
      "102400 3.1324707758 0.00912187779058\n",
      "204800 3.14206941609 0.000476762500761\n",
      "409600 3.14183882865 0.000246175055787\n",
      "819200 3.14291738648 0.0013247328939\n",
      "1638400 3.14195247482 0.000359821226621\n",
      "3276800 3.14120649727 0.000386156320964\n"
     ]
    },
    {
     "data": {
      "image/png": "[encoded data removed]",
      "text/plain": [
       "<matplotlib.figure.Figure at 0x1056afc10>"
      ]
     },
     "metadata": {},
     "output_type": "display_data"
    }
   ],
   "source": [
    "# Simple Monte Carlo Integration\n",
    "ngroups = 16\n",
    "\n",
    "I = np.zeros(ngroups)\n",
    "N = np.zeros(ngroups)\n",
    "E = np.zeros(ngroups)\n",
    "\n",
    "n0 = 100\n",
    "for i in range(ngroups):\n",
    "\n",
    "    N[i] = n0\n",
    "    r = np.random.random(n0)\n",
    "    I[i] = 0.\n",
    "    for j in range(n0):\n",
    "        x = r[j]\n",
    "        I[i] += np.sqrt(1-x**2)\n",
    "        \n",
    "    I[i] *= 4./float(n0)\n",
    "    E[i] = abs(I[i]-np.pi)\n",
    "    print n0,I[i],E[i]\n",
    "    n0 *= 2\n",
    "    \n",
    "            \n",
    "pyplot.plot(N,E,ls='-',c='red',lw=3);\n",
    "pyplot.plot(N,0.8/np.sqrt(N),ls='-',c='blue',lw=3);\n",
    "pyplot.xscale('log')\n",
    "pyplot.yscale('log')"
   ]
  },
  {
   "cell_type": "code",
   "execution_count": 20,
   "metadata": {
    "collapsed": false
   },
   "outputs": [
    {
     "name": "stdout",
     "output_type": "stream",
     "text": [
      "(3.147846283159518, 10.680783230912089, 0.77184700851089794)\n",
      "(3.1580539859950902, 10.74096971196481, 0.76766473350533282)\n",
      "(3.1406281485021221, 10.66313102765778, 0.799585860493913)\n",
      "(3.1496637884629224, 10.727421562291832, 0.80703958193722336)\n",
      "(3.154676614353717, 10.729834170299018, 0.77784962914878797)\n",
      "(3.1626783625898396, 10.771816773892448, 0.76928234869849987)\n",
      "(3.1306623707073826, 10.606514743529543, 0.80546786416637417)\n",
      "(3.1550582020979947, 10.744126447835619, 0.78973418920978844)\n",
      "(3.1454252300924748, 10.68437393582718, 0.79067405772488186)\n",
      "(3.1653709643980443, 10.781861925623135, 0.76228858336892991)\n",
      "=============================\n",
      "(3.1516793149469096, 10.704698225586647, 0.7716157213224264)\n",
      "(3.1440132513721006, 10.656868236237541, 0.77204891143417242)\n",
      "(3.1659818643366489, 10.786659666269417, 0.76321850096085342)\n",
      "(3.1501261076535259, 10.695279757660135, 0.77198526353978103)\n",
      "(3.1366617061089581, 10.646247096466221, 0.80760043789586078)\n",
      "(3.1445945908952666, 10.680014958849368, 0.7915398177615991)\n",
      "(3.1416659884532319, 10.690993739909656, 0.82092855690583377)\n",
      "(3.1576615884726169, 10.763849384674021, 0.79302267735861065)\n",
      "(3.1522057188954484, 10.72397869845774, 0.78757780422056989)\n",
      "(3.1571475098119981, 10.735689642140311, 0.76810924342820996)\n",
      "(3.1472673825368074, 10.686489377890892, 0.78119740071080557)\n",
      "(3.1780893426428829, 10.857144169894021, 0.75689230007374952)\n",
      "(3.1471789061802449, 10.672694634788504, 0.76795956728262205)\n",
      "(3.1141458352344924, 10.540334852270497, 0.84243056916216297)\n",
      "(3.1662009306703878, 10.80547816101687, 0.78064982763883961)\n",
      "(3.1439154735256034, 10.682774734654307, 0.79857022998058902)\n",
      "(3.1436673106007667, 10.687822028039699, 0.80517786829984139)\n",
      "(3.1471831495841611, 10.680925843614657, 0.77616406658817638)\n",
      "(3.1549316942323311, 10.715844042038634, 0.76225004676694752)\n",
      "(3.1758102345637527, 10.847879809207512, 0.76210916324763467)\n",
      "=============================\n",
      "(3.15100639503591, 10.713083352983356, 0.78424205142615477)\n"
     ]
    }
   ],
   "source": [
    "n0 = 100000\n",
    "I = np.zeros(n0)\n",
    "r = np.random.random(n0)\n",
    "for j in range(n0):\n",
    "    x = r[j]\n",
    "    I[j] = 4*np.sqrt(1-x**2)\n",
    "\n",
    "def group_measurements(ngroups):\n",
    "    global I,n0\n",
    "    \n",
    "    nmeasurements = n0/ngroups\n",
    "    for n in range(ngroups):\n",
    "        Ig = 0.\n",
    "        Ig2 = 0.\n",
    "        for i in range(n*nmeasurements,(n+1)*nmeasurements):\n",
    "            Ig += I[i]\n",
    "            Ig2 += I[i]**2\n",
    "        Ig /= nmeasurements\n",
    "        Ig2 /= nmeasurements\n",
    "        sigma = Ig2-Ig**2\n",
    "        print(Ig,Ig2,sigma)\n",
    "        \n",
    "group_measurements(10)\n",
    "print(\"=============================\")\n",
    "group_measurements(20)\n",
    "print(\"=============================\")\n",
    "group_measurements(1)\n",
    "\n",
    "\n"
   ]
  },
  {
   "cell_type": "markdown",
   "metadata": {},
   "source": [
    "Variance reduction\n",
    "------------------\n",
    "\n",
    "If the function being integrated does not fluctuate too much in the\n",
    "interval of integration, and does not differ much from the average\n",
    "value, then the standard Monte Carlo mean-value method should work well\n",
    "with a reasonable number of points. Otherwise, we will find that the\n",
    "variance is very large, meaning that some points will make small\n",
    "contributions, while others will make large contributions to the\n",
    "integral. If this is the case, the algorithm will be very inefficient.\n",
    "The method can be improved by splitting the function $f(x)$ in two\n",
    "$f(x)=f_1(x)+f_2(x)$, such that the integral of $f_1(x)$ is known, and\n",
    "$f_2(x)$ as a small variance. The “variance reduction” technique,\n",
    "consists then in evaluating the integral of $f_2(x)$ to obtain:\n",
    "$$\\int _a^b{f(x)dx}=\\int _a^b {f_1(x)dx} + \\int _a^b{f_2(x)dx} = \\int\n",
    "_a^b{f_1(x)dx}+J.$$\n",
    "\n",
    "Importance Sampling\n",
    "-------------------\n",
    "\n",
    "Imagine that we want to sample the function $f(x)=e^{-x^2}$ in the\n",
    "interval $[0,1]$. It is evident that most of our points will fall in the\n",
    "region where the value of $f(x)$ is very small, and therefore we will\n",
    "need a large number of values to achieve a decent accuracy. A way to\n",
    "improve the measurement by reducing the variance is obtained by\n",
    "“importance sampling”. As the name says, the idea is to sample the\n",
    "regions with larger contributions to the integral. For this goal, we\n",
    "introduce a probability distribution $P(x)$ normalized in the interval\n",
    "of integration $$\\int _a^b{P(x)dx} = 1.$$ Then, we can rewrite the\n",
    "integral of $f(x)$ as $$I=\\int _a^b{\\frac{f(x)}{P(x)}P(x)dx}\n",
    "$$ We can evaluate this integral, by sampling\n",
    "according to the probability distribution $P(x)$ and evaluating the sum\n",
    "$$I(N)=\\frac{1}{N} \\sum_{i=1}^N \\frac{f(x_i)}{P(x_i)}.\n",
    "$$ Note that for the uniform case $P(x)=1/(b-a)$, the\n",
    "expression reduces to the simple Monte Carlo integral.\n",
    "\n",
    "We are free to choose $P(x)$ now. We wish to do it in a way to reduce\n",
    "and minimize the variance of the integrand $f(x)/P(x)$. The way to to\n",
    "this is picking a $P(x)$ that mimics $f(x)$ where $f(x)$ is large. if we\n",
    "are able to determine an apropiate $P(x)$, the integrand will be slowly\n",
    "varying, and hence the variance will be reduced. Another consideration\n",
    "is that the generation of points according to the distribution $P(x)$\n",
    "should be a simple task. As an example, let us consider again the\n",
    "integral $$I=\\int _0^1 {e^{-x^2}dx}.$$ A reasonable choice for a weigh\n",
    "function is $P(x)=Ae^{-x}$, where $A$ is a normalization constant.\n",
    "\n",
    "Notice that for $P(x)=f(x)$ the variance is zero! This is known as the\n",
    "zero variance property. There is a catch, though: The probability function\n",
    "$P(x)$ needs to be normalized, implying that in reality, $P(x)=f(x)/\\int f(x)dx$, which\n",
    "assumes that we know in advance precisely the integral that we are trying to calculate!\n",
    "\n",
    "### Exercise 10.3: Importance sampling \n",
    "\n",
    "1.  Choose the weight function $P(x)=e^{-x}$ and evaluate the integral:\n",
    "    $$\\int _0^{\\infty} {x^{3/2}e^{-x}dx}.$$\n",
    "\n",
    "2.  Choose $P(x)=e^{-ax}$ and estimate the integral\n",
    "    $$\\int _0^{\\pi} \\frac{dx}{x^2+\\cos ^2{x}}.$$ Determine the value of\n",
    "    $a$ that minimizes the variance of the integral.\n",
    "\n"
   ]
  },
  {
   "cell_type": "code",
   "execution_count": 16,
   "metadata": {
    "collapsed": false
   },
   "outputs": [
    {
     "data": {
      "image/png": "[encoded data removed]",
      "text/plain": [
       "<matplotlib.figure.Figure at 0x102408cd0>"
      ]
     },
     "metadata": {},
     "output_type": "display_data"
    }
   ],
   "source": [
    "pyplot.xlim(0,10)\n",
    "x = np.arange(0,10,0.1)\n",
    "pyplot.plot(x,np.exp(-x));\n",
    "pyplot.plot(x,np.exp(-x**2));\n",
    "pyplot.plot(x,x**1.5*np.exp(-x));"
   ]
  },
  {
   "cell_type": "code",
   "execution_count": 17,
   "metadata": {
    "collapsed": false
   },
   "outputs": [
    {
     "name": "stdout",
     "output_type": "stream",
     "text": [
      "('Trapezoids: ', 1.3293401896452883)\n",
      "('Simple Monte Carlo: ', 0.20056324316453975)\n",
      "('Importance Sampling: ', 1.3274812570687529)\n"
     ]
    },
    {
     "data": {
      "image/png": "[encoded data removed]",
      "text/plain": [
       "<matplotlib.figure.Figure at 0x10563e2d0>"
      ]
     },
     "metadata": {},
     "output_type": "display_data"
    }
   ],
   "source": [
    "pyplot.plot(x,np.exp(-x));\n",
    "\n",
    "# Trapezoidal integration\n",
    "def trapezoids(func, xmin, xmax, nmax):\n",
    "    Isim = func(xmin)+func(xmax)\n",
    "    h = (xmax-xmin)/nmax\n",
    "    for i in range(1,nmax):\n",
    "        x = xmin+i*h\n",
    "        Isim += 2*func(x)\n",
    "\n",
    "    Isim *= h/2\n",
    "    return Isim\n",
    "\n",
    "def f(x):\n",
    "    return x**1.5*np.exp(-x)\n",
    "    \n",
    "    \n",
    "print(\"Trapezoids: \", trapezoids(f, 0., 20., 100000))\n",
    "\n",
    "# Simple Monte Carlo integration\n",
    "n0 = 1000000\n",
    "r = np.random.random(n0)\n",
    "\n",
    "Itot = np.sum(r**1.5*np.exp(-r))\n",
    "print(\"Simple Monte Carlo: \", Itot/n0)\n",
    "\n",
    "x = -np.log(r)\n",
    "Itot = np.sum(x**1.5)\n",
    "print(\"Importance Sampling: \", Itot/n0)"
   ]
  },
  {
   "cell_type": "code",
   "execution_count": 8,
   "metadata": {
    "collapsed": false
   },
   "outputs": [
    {
     "data": {
      "image/png": "[encoded data removed]",
      "text/plain": [
       "<matplotlib.figure.Figure at 0x1062e7a90>"
      ]
     },
     "metadata": {},
     "output_type": "display_data"
    }
   ],
   "source": [
    "pyplot.xlim(0,np.pi)\n",
    "x = np.arange(0,np.pi,0.05)\n",
    "pyplot.plot(x,1./(x**2+np.cos(x)**2));\n",
    "pyplot.plot(x,np.exp(-x));\n",
    "pyplot.plot(x,np.exp(-2*x));\n",
    "pyplot.plot(x,np.exp(-0.2*x));"
   ]
  },
  {
   "cell_type": "code",
   "execution_count": 14,
   "metadata": {
    "collapsed": false
   },
   "outputs": [
    {
     "name": "stdout",
     "output_type": "stream",
     "text": [
      "('Trapezoids: ', 1.5811879708476726)\n",
      "('Simple Monte Carlo: ', 1.5797827458870988)\n",
      "Importance Sampling:\n",
      "(0.10000000000000001, 1.5249932951532761, 0.0032106108008850783)\n",
      "(0.20000000000000001, 1.500574956171425, 0.0020620353300057834)\n",
      "(0.30000000000000004, 1.4909489814323917, 0.0015501151854219446)\n",
      "(0.40000000000000002, 1.4972166132266675, 0.001253730258486196)\n",
      "(0.5, 1.5150987897327253, 0.0010519673109991509)\n",
      "(0.59999999999999998, 1.5396688576732183, 0.00089146164837288042)\n",
      "(0.70000000000000007, 1.562729690720903, 0.00073295382565260678)\n",
      "(0.80000000000000004, 1.5793639491254796, 0.0005398229504600167)\n",
      "(0.90000000000000002, 1.5841754319568198, 0.00018115922009347653)\n",
      "(1.0, 1.5731422269735431, 0.00049706591253183773)\n",
      "(1.1000000000000001, 1.5442687571008678, 0.00073661399038752091)\n",
      "(1.2000000000000002, 1.4979461586383445, 0.00091469121334639451)\n",
      "(1.3000000000000003, 1.436708046979557, 0.0010518889261524923)\n",
      "(1.4000000000000001, 1.3643041732000638, 0.0011530775897953722)\n",
      "(1.5000000000000002, 1.2856364500941726, 0.0012222214944428262)\n",
      "(1.6000000000000001, 1.2046539738536408, 0.0012628342530133568)\n",
      "(1.7000000000000002, 1.1245103954512066, 0.0012787195522956977)\n",
      "(1.8000000000000003, 1.0476689773454455, 0.0012758886946593092)\n",
      "(1.9000000000000001, 0.97538695164079203, 0.0012580769866712064)\n",
      "(2.0, 0.90829100833263143, 0.0012275478969437517)\n"
     ]
    },
    {
     "data": {
      "image/png": "[encoded data removed]",
      "text/plain": [
       "<matplotlib.figure.Figure at 0x10597e710>"
      ]
     },
     "metadata": {},
     "output_type": "display_data"
    }
   ],
   "source": [
    "# Trapezoidal integration\n",
    "\n",
    "def g(x):\n",
    "    return 1./(x**2+np.cos(x)**2)\n",
    "\n",
    "print(\"Trapezoids: \", trapezoids(g, 0., np.pi, 1000000))\n",
    "\n",
    "# Simple Monte Carlo integration\n",
    "n0 = 1000000\n",
    "a = np.arange(0.1,2.1,0.1)\n",
    "I = np.arange(0.1,2.1,0.1)\n",
    "\n",
    "r = np.random.random(n0)\n",
    "\n",
    "I0 = np.sum(1./((r*np.pi)**2+np.cos(r*np.pi)**2))\n",
    "print(\"Simple Monte Carlo: \", I0/n0*np.pi)\n",
    "\n",
    "# Importance Sampling\n",
    "print(\"Importance Sampling:\")\n",
    "x = -np.log(r)\n",
    "              \n",
    "i = 0\n",
    "for ai in a:\n",
    "    norm = (1.-np.exp(-ai*np.pi))/ai\n",
    "    x1 = norm*x/ai\n",
    "    Itot = 0.\n",
    "    Nin = 0\n",
    "    I2 = 0.\n",
    "    for xi in x1:\n",
    "        if(xi <= np.pi):\n",
    "            Nin += 1\n",
    "            Itot += g(xi)*np.exp(xi*ai)\n",
    "            I2 += (g(xi)*np.exp(xi*ai))**2\n",
    "\n",
    "    Itot *= norm\n",
    "    I2 *= norm\n",
    "\n",
    "    I[i] = Itot/Nin\n",
    "    i += 1\n",
    "    print(ai,Itot/Nin,np.sqrt(abs(Itot**2/Nin**2-I2/Nin))/np.sqrt(Nin))\n",
    "    \n",
    "pyplot.plot(a,I,ls='-',marker='o',c='red',lw=3);\n"
   ]
  },
  {
   "cell_type": "markdown",
   "metadata": {},
   "source": [
    "### Exercise 10.4: The Metropolis algorithm \n",
    "\n",
    "Use the Metropolis algorithm to sample points according to a ditribution\n",
    "and estimate the integral $$\\int _0^4 {x^2e^{-x}dx},$$ with\n",
    "$P(x)=e^{-x}$ for $0 \\leq x \\leq 4$. Plot the number of times the\n",
    "walker is at points $x_0$, $x_1$, $x_2$, ... Is the integrand sampled\n",
    "uniformly? If not, what is the approximate region of $x$ where the\n",
    "integrand is sampled more often?"
   ]
  },
  {
   "cell_type": "code",
   "execution_count": 26,
   "metadata": {
    "collapsed": false
   },
   "outputs": [
    {
     "name": "stdout",
     "output_type": "stream",
     "text": [
      "('Trapezoids: ', 1.5237933888733828)\n",
      "('Metropolis: ', 1.5251458730929552)\n"
     ]
    },
    {
     "data": {
      "image/png": "[encoded data removed]",
      "text/plain": [
       "<matplotlib.figure.Figure at 0x10b782b10>"
      ]
     },
     "metadata": {},
     "output_type": "display_data"
    }
   ],
   "source": [
    "delta = 2\n",
    "xmin = 0.\n",
    "xmax = 4.\n",
    "\n",
    "def f(x):\n",
    "    return x**2*np.exp(-x)\n",
    "\n",
    "def P(x):\n",
    "    global xmin, xmax\n",
    "    if(x < xmin or x > xmax):\n",
    "        return 0.\n",
    "    return np.exp(-x)\n",
    "\n",
    "\n",
    "def metropolis(xold):\n",
    "    global delta\n",
    "    xtrial = np.random.random()    \n",
    "    xtrial = xold+(2*xtrial-1)*delta\n",
    "    weight = P(xtrial)/P(xold)\n",
    "    xnew = xold\n",
    "    if(weight >= 1): #Accept\n",
    "        xnew = xtrial\n",
    "    elif(weight != 0):\n",
    "        r = np.random.random()\n",
    "        if(r <= weight): #Accept\n",
    "            xnew = xtrial\n",
    "    return xnew\n",
    "\n",
    "\n",
    "xwalker = (xmax+xmin)/2.\n",
    "for i in range(100000):\n",
    "    xwalker = metropolis(xwalker)\n",
    "\n",
    "I0 = 0.\n",
    "N = 300000\n",
    "\n",
    "x = np.zeros(N)\n",
    "\n",
    "x[0] = xwalker\n",
    "for i in range(1,N):\n",
    "    for j in range(20):\n",
    "        xwalker = metropolis(xwalker)\n",
    "    x[i] = xwalker\n",
    "    I0 += x[i]**2\n",
    "\n",
    "binwidth=0.1\n",
    "pyplot.hist(x,bins=np.arange(xmin-1, xmax+1, 0.1),normed=True);\n",
    "\n",
    "print(\"Trapezoids: \", trapezoids(f,xmin,xmax,100000))\n",
    "print(\"Metropolis: \", I0*(1.-np.exp(-4.))/N)"
   ]
  },
  {
   "cell_type": "code",
   "execution_count": 23,
   "metadata": {
    "collapsed": false
   },
   "outputs": [
    {
     "data": {
      "image/png": "[encoded data removed]",
      "text/plain": [
       "<matplotlib.figure.Figure at 0x106da8710>"
      ]
     },
     "metadata": {},
     "output_type": "display_data"
    }
   ],
   "source": [
    "pyplot.hist(x**2,bins=np.arange(xmin**2-1, xmax**2+1, 0.1),normed=True);\n",
    "\n"
   ]
  },
  {
   "cell_type": "markdown",
   "metadata": {},
   "source": [
    "#### Challenge 10.1\n",
    "\n",
    "- Calculate the integral $\\int_0^1 x^2 dx=1/3$ using simple MC integration and importance sampling with $P(x)=x$.\n",
    "\n",
    "- Calculate the integral $\\int_0^1 \\sqrt{x}dx=2/3$ using simple MC integration and $P(x)=1-e^{-ax}$. Find the values of $a$ that minimizes the variance."
   ]
  },
  {
   "cell_type": "code",
   "execution_count": null,
   "metadata": {
    "collapsed": true
   },
   "outputs": [],
   "source": []
  }
 ],
 "metadata": {
  "kernelspec": {
   "display_name": "Python 2",
   "language": "python",
   "name": "python2"
  },
  "language_info": {
   "codemirror_mode": {
    "name": "ipython",
    "version": 2
   },
   "file_extension": ".py",
   "mimetype": "text/x-python",
   "name": "python",
   "nbconvert_exporter": "python",
   "pygments_lexer": "ipython2",
   "version": "2.7.10"
  }
 },
 "nbformat": 4,
 "nbformat_minor": 0
}
