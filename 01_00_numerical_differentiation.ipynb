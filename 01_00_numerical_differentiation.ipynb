{
 "cells": [
  {
   "cell_type": "markdown",
   "metadata": {},
   "source": [
    "A primer on numerical differentiation\n",
    "========================\n",
    "\n",
    "In order to numerically evaluate a derivative $y'(x)=dy/dx$ at point $x_0$, we approximate is by using finite differences:\n",
    "Therefore we find: $$\\begin{eqnarray}\n",
    "&& dx \\approx \\Delta x &=&x_1-x_0, \\\\\n",
    "&& dy \\approx \\Delta y &=&y_1-y_0 = y(x_1)-y(x_0) = y(x_0+\\Delta_x)-y(x_0),\\end{eqnarray}$$\n",
    "\n",
    "Then we re-write the derivative in terms of discrete differences as:\n",
    "$$\\frac{dy}{dx} \\approx \\frac{\\Delta y}{\\Delta x}$$\n",
    "\n",
    "#### Example\n",
    "\n",
    "Let's look at the accuracy of this approximation in terms of the interval $\\Delta x$. In our first example we will evaluate the derivative of $y=x^2$ at $x=1$."
   ]
  },
  {
   "cell_type": "code",
   "execution_count": 1,
   "metadata": {
    "collapsed": false
   },
   "outputs": [
    {
     "name": "stdout",
     "output_type": "stream",
     "text": [
      "1.0 3.0\n",
      "0.1 2.1\n",
      "0.01 2.01\n",
      "0.001 2.001\n",
      "0.0001 2.0001\n",
      "1e-05 2.00001000001\n",
      "1e-06 2.00000099992\n",
      "1e-07 2.00000010109\n",
      "1e-08 1.99999998785\n",
      "1e-09 2.00000016548\n",
      "1e-10 2.00000016548\n"
     ]
    }
   ],
   "source": [
    "delta = 1.\n",
    "while(delta > 1.e-10):\n",
    "    x = 1.\n",
    "    d = (x+delta)*(x+delta)-x*x\n",
    "    d = d / delta\n",
    "    print delta, d\n",
    "    delta = delta / 10.\n",
    "    "
   ]
  },
  {
   "cell_type": "markdown",
   "metadata": {},
   "source": [
    "Why is it that the sequence does not converge? This is due to the round-off errors in the representation of the floating point numbers. To see this, we can simply type:"
   ]
  },
  {
   "cell_type": "code",
   "execution_count": 2,
   "metadata": {
    "collapsed": false
   },
   "outputs": [
    {
     "data": {
      "text/plain": [
       "0.0002000099999999172"
      ]
     },
     "execution_count": 2,
     "metadata": {},
     "output_type": "execute_result"
    }
   ],
   "source": [
    "((1.+0.0001)*(1+0.0001)-1)"
   ]
  },
  {
   "cell_type": "markdown",
   "metadata": {},
   "source": [
    "For a more complex function we need to import it from math. For instance, let's calculate the derivative of $sin(x)$ at $x=\\pi/4$."
   ]
  },
  {
   "cell_type": "code",
   "execution_count": 3,
   "metadata": {
    "collapsed": false
   },
   "outputs": [
    {
     "name": "stdout",
     "output_type": "stream",
     "text": [
      "1.0 0.269954482713 0.678010098842\n",
      "0.1 0.670602972904 0.706812190187\n",
      "0.01 0.703559491689 0.707103834912\n",
      "0.001 0.706753109974 0.707106751724\n",
      "0.0001 0.707071424668 0.707106780892\n",
      "1e-05 0.707103245645 0.707106781195\n",
      "1e-06 0.707106427633 0.707106781128\n",
      "1e-07 0.707106745379 0.707106780906\n",
      "1e-08 0.707106773135 0.707106773135\n",
      "1e-09 0.707106817543 0.707106817543\n",
      "1e-10 0.707106595499 0.707105485276\n"
     ]
    }
   ],
   "source": [
    "from math import sin\n",
    "delta = 1.\n",
    "while(delta > 1.e-10):\n",
    "    x = 3.14159265358979323846264338327950288419716939937510/4.;\n",
    "    d1 = sin(x+delta) - sin(x); #forward\n",
    "    d2 = sin(x+delta*0.5) - sin(x-delta*0.5); # midpoint\n",
    "    d1 = d1 / delta;\n",
    "    d2 = d2 / delta;\n",
    "    print delta, d1, d2\n",
    "    delta = delta / 10."
   ]
  },
  {
   "cell_type": "markdown",
   "metadata": {},
   "source": [
    "A more in-depth discussion about round-off erros in numerical differentiation can be found <a href=\"http://www.uio.no/studier/emner/matnat/math/MAT-INF1100/h10/kompendiet/kap11.pdf\">here</a>"
   ]
  },
  {
   "cell_type": "code",
   "execution_count": null,
   "metadata": {
    "collapsed": true
   },
   "outputs": [],
   "source": []
  }
 ],
 "metadata": {
  "kernelspec": {
   "display_name": "Python 2",
   "language": "python",
   "name": "python2"
  },
  "language_info": {
   "codemirror_mode": {
    "name": "ipython",
    "version": 2
   },
   "file_extension": ".py",
   "mimetype": "text/x-python",
   "name": "python",
   "nbconvert_exporter": "python",
   "pygments_lexer": "ipython2",
   "version": "2.7.10"
  }
 },
 "nbformat": 4,
 "nbformat_minor": 0
}
